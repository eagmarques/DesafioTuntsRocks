{
  "nbformat": 4,
  "nbformat_minor": 0,
  "metadata": {
    "colab": {
      "provenance": [],
      "authorship_tag": "ABX9TyNy8Icre1Rk8H8O+r8HC3yQ",
      "include_colab_link": true
    },
    "kernelspec": {
      "name": "python3",
      "display_name": "Python 3"
    },
    "language_info": {
      "name": "python"
    }
  },
  "cells": [
    {
      "cell_type": "markdown",
      "metadata": {
        "id": "view-in-github",
        "colab_type": "text"
      },
      "source": [
        "<a href=\"https://colab.research.google.com/github/eagmarques/DesafioTuntsRocks/blob/main/DesafioTuntsRocks.ipynb\" target=\"_parent\"><img src=\"https://colab.research.google.com/assets/colab-badge.svg\" alt=\"Open In Colab\"/></a>"
      ]
    },
    {
      "cell_type": "code",
      "source": [
        "import requests, json, pandas\n",
        "\n",
        "response = requests.get('https://restcountries.com/v2/all?fields=name,capital,area,currencies')\n",
        "\n",
        "dataJson = json.loads(response.content)\n",
        "\n",
        "createExcelFile = pandas.DataFrame(dataJson)\n",
        "\n",
        "createExcelFile.to_excel(\"desafio.xlsx\", index=False)"
      ],
      "metadata": {
        "id": "bHvioNB-uNSF"
      },
      "execution_count": 37,
      "outputs": []
    }
  ]
}
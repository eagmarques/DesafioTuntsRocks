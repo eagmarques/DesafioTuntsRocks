{
  "nbformat": 4,
  "nbformat_minor": 0,
  "metadata": {
    "colab": {
      "provenance": [],
      "authorship_tag": "ABX9TyPUgGcw0qBk7eNXhHt3S1fu",
      "include_colab_link": true
    },
    "kernelspec": {
      "name": "python3",
      "display_name": "Python 3"
    },
    "language_info": {
      "name": "python"
    }
  },
  "cells": [
    {
      "cell_type": "markdown",
      "metadata": {
        "id": "view-in-github",
        "colab_type": "text"
      },
      "source": [
        "<a href=\"https://colab.research.google.com/github/eagmarques/DesafioTuntsRocks/blob/main/DesafioTuntsRocks.ipynb\" target=\"_parent\"><img src=\"https://colab.research.google.com/assets/colab-badge.svg\" alt=\"Open In Colab\"/></a>"
      ]
    },
    {
      "cell_type": "code",
      "source": [
        "# importando bibliotecas necessarias\n",
        "import requests, json, pandas\n",
        "\n",
        "# fazendo requisição http\n",
        "response = requests.get('https://restcountries.com/v2/all?fields=name,capital,area,currencies')\n",
        "\n",
        "# transformando a resposta em um json\n",
        "dataJson = json.loads(response.content)\n",
        "\n",
        "# transformando um json em um data frame\n",
        "createExcelFile = pandas.DataFrame(dataJson)\n",
        "\n",
        "# criando o arquivo excel\n",
        "createExcelFile.to_excel(\"desafio.xlsx\", index=False)"
      ],
      "metadata": {
        "id": "bHvioNB-uNSF"
      },
      "execution_count": null,
      "outputs": []
    }
  ]
}